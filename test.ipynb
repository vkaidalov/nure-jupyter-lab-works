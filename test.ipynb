{
 "cells": [
  {
   "cell_type": "code",
   "execution_count": 1,
   "id": "professional-episode",
   "metadata": {},
   "outputs": [
    {
     "name": "stdout",
     "output_type": "stream",
     "text": [
      "hello world!\n"
     ]
    }
   ],
   "source": [
    "print('hello world!')"
   ]
  },
  {
   "cell_type": "code",
   "execution_count": 2,
   "id": "conceptual-success",
   "metadata": {},
   "outputs": [
    {
     "name": "stdout",
     "output_type": "stream",
     "text": [
      "1 ^ 2 = 1\n",
      "2 ^ 2 = 4\n",
      "3 ^ 2 = 9\n",
      "4 ^ 2 = 16\n",
      "5 ^ 2 = 25\n",
      "6 ^ 2 = 36\n",
      "7 ^ 2 = 49\n",
      "8 ^ 2 = 64\n",
      "9 ^ 2 = 81\n",
      "10 ^ 2 = 100\n"
     ]
    }
   ],
   "source": [
    "for i in range(1, 11):\n",
    "    print(f'{i} ^ 2 = {i * i}')"
   ]
  },
  {
   "cell_type": "code",
   "execution_count": 3,
   "id": "fourth-mention",
   "metadata": {},
   "outputs": [],
   "source": [
    "import cv2\n",
    "import matplotlib\n",
    "import numpy"
   ]
  },
  {
   "cell_type": "code",
   "execution_count": null,
   "id": "smart-headline",
   "metadata": {},
   "outputs": [],
   "source": []
  }
 ],
 "metadata": {
  "kernelspec": {
   "display_name": "Python 3",
   "language": "python",
   "name": "python3"
  },
  "language_info": {
   "codemirror_mode": {
    "name": "ipython",
    "version": 3
   },
   "file_extension": ".py",
   "mimetype": "text/x-python",
   "name": "python",
   "nbconvert_exporter": "python",
   "pygments_lexer": "ipython3",
   "version": "3.9.2"
  }
 },
 "nbformat": 4,
 "nbformat_minor": 5
}
